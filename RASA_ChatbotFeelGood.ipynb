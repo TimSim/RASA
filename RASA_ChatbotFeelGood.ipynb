{
  "nbformat": 4,
  "nbformat_minor": 0,
  "metadata": {
    "colab": {
      "name": "RASA_ChatbotFeelGood.ipynb",
      "version": "0.3.2",
      "provenance": []
    },
    "kernelspec": {
      "name": "python3",
      "display_name": "Python 3"
    }
  },
  "cells": [
    {
      "metadata": {
        "id": "9x9opV6zwpMq",
        "colab_type": "text"
      },
      "cell_type": "markdown",
      "source": [
        "**The RASA tutorial consists of three parts:**\n",
        "\n",
        "---\n",
        "\n",
        "\n",
        "Part 0: Installation and preparations\n",
        "Part 1: You'll start with a basic bot that can only understand natural language but no dialogues.\n",
        "Part 2: You'll add the abilitiy to understand multiturn dialogues.\n",
        "Part 3: I'll give you further resources so you can extend this simple demo.\n",
        "Part 0: Installation\n",
        "Let's start with jupyter configuration"
      ]
    },
    {
      "metadata": {
        "id": "MggDgbkJwkSA",
        "colab_type": "code",
        "colab": {}
      },
      "cell_type": "code",
      "source": [
        "%matplotlib inline\n",
        "\n",
        "import logging, io, json, warnings\n",
        "logging.basicConfig(level=\"INFO\")\n",
        "warnings.filterwarnings('ignore')\n",
        "\n",
        "def pprint(o):\n",
        "    # small helper to make dict dumps a bit prettier\n",
        "    print(json.dumps(o, indent=2))"
      ],
      "execution_count": 0,
      "outputs": []
    },
    {
      "metadata": {
        "id": "4FyzBbR6zFfc",
        "colab_type": "text"
      },
      "cell_type": "markdown",
      "source": [
        "**Installation of Rasa**\n",
        "\n",
        "---\n",
        "\n",
        "\n",
        "First you'll have to install Rasa Core and NLU in this notebook if you already have them installed in your env, you can just skip this. But make sure you also have the spacy model installed!"
      ]
    },
    {
      "metadata": {
        "id": "kDsuyzxqw58i",
        "colab_type": "code",
        "colab": {}
      },
      "cell_type": "code",
      "source": [
        "import sys\n",
        "python = sys.executable\n",
        "\n",
        "# In your environment run:\n",
        "!{python} -m pip install -U rasa_core==0.9.0a7 rasa_nlu[spacy];\n",
        "\n",
        "# as well as install a language model:\n",
        "!{python} -m spacy download en_core_web_md;\n",
        "!{python} -m spacy link --force en_core_web_md en;"
      ],
      "execution_count": 0,
      "outputs": []
    },
    {
      "metadata": {
        "id": "1omJ2YPLzWU4",
        "colab_type": "text"
      },
      "cell_type": "markdown",
      "source": [
        "Let's check if the correct versions are installed (should be rasa_nlu: 0.12.3 rasa_core: 0.9.0a7) and the spacy model is available:"
      ]
    },
    {
      "metadata": {
        "id": "fQs1hG6jzLgh",
        "colab_type": "code",
        "colab": {}
      },
      "cell_type": "code",
      "source": [
        "import rasa_nlu\n",
        "import rasa_core\n",
        "import spacy\n",
        "\n",
        "print(\"rasa_nlu: {} rasa_core: {}\".format(rasa_nlu.__version__, rasa_core.__version__))\n",
        "print(\"Loading spaCy language model...\")\n",
        "print(spacy.load(\"en\")(\"Hello world!\"))"
      ],
      "execution_count": 0,
      "outputs": []
    },
    {
      "metadata": {
        "id": "oIk2C5nw0Ecg",
        "colab_type": "text"
      },
      "cell_type": "markdown",
      "source": [
        "**Some additional Tools needed**\n",
        "\n",
        "---\n",
        "\n",
        "\n",
        "To do some of the visualizations you will also need graphviz. If you don't have graphviz installed, and this doesn't work: don't worry. I'll show you the graph and besides that visualization everything else will work.\n",
        "Try installing with anyone of these (or adapt to your operating system):"
      ]
    },
    {
      "metadata": {
        "id": "ZmfZ4JzszaZV",
        "colab_type": "code",
        "colab": {}
      },
      "cell_type": "code",
      "source": [
        "!apt-get -qq install -y graphviz libgraphviz-dev pkg-config;\n",
        "!brew install graphviz;"
      ],
      "execution_count": 0,
      "outputs": []
    },
    {
      "metadata": {
        "id": "9OJaIN8Y0Kkr",
        "colab_type": "text"
      },
      "cell_type": "markdown",
      "source": [
        "and another python package and we are ready to go:"
      ]
    },
    {
      "metadata": {
        "id": "nis_0TtD0LNi",
        "colab_type": "code",
        "colab": {}
      },
      "cell_type": "code",
      "source": [
        "!{python} -m pip install pygraphviz;"
      ],
      "execution_count": 0,
      "outputs": []
    },
    {
      "metadata": {
        "id": "P0Ffzp2U0Wf_",
        "colab_type": "text"
      },
      "cell_type": "markdown",
      "source": [
        "**Part 1: Add natural language understanding**\n",
        "\n",
        "---\n",
        "\n",
        "\n",
        "First thing our bot is going to learn is how to understand user messages. To do that, you're going to build a first version of your language understanding model with Rasa NLU.\n",
        "Language Understanding\n",
        "Lets create some training data here, grouping user messages by their intents. The intent describes what the messages mean. More information about the data format. This is the training data for our NLU model, one example per line. Entities are labeled using the markdown link syntex: [entity value](entity_type):"
      ]
    },
    {
      "metadata": {
        "id": "EivAYldH0XVJ",
        "colab_type": "code",
        "colab": {}
      },
      "cell_type": "code",
      "source": [
        "nlu_md = \"\"\"\n",
        "## intent:greet\n",
        "- hey I am [Peter](PERSON)\n",
        "- hello there I am [Hans](PERSON)\n",
        "- hi I am [Tom](PERSON)\n",
        "- hello there\n",
        "- good morning\n",
        "- good evening\n",
        "- moin\n",
        "- hey there\n",
        "- let's go\n",
        "- hey dude\n",
        "- goodmorning\n",
        "- goodevening\n",
        "- good afternoon\n",
        "\n",
        "## intent:goodbye\n",
        "- cu\n",
        "- good by\n",
        "- cee you later\n",
        "- good night\n",
        "- good afternoon\n",
        "- bye\n",
        "- goodbye\n",
        "- have a nice day\n",
        "- see you around\n",
        "- bye bye\n",
        "- see you later\n",
        "\n",
        "## intent:mood_affirm\n",
        "- yes\n",
        "- indeed\n",
        "- of course\n",
        "- that sounds good\n",
        "- correct\n",
        "\n",
        "## intent:mood_deny\n",
        "- no\n",
        "- never\n",
        "- I don't think so\n",
        "- don't like that\n",
        "- no way\n",
        "- not really\n",
        "\n",
        "## intent:mood_great\n",
        "- perfect\n",
        "- very good\n",
        "- great\n",
        "- amazing\n",
        "- feeling like a king\n",
        "- wonderful\n",
        "- I am feeling very good\n",
        "- I am great\n",
        "- I am amazing\n",
        "- I am going to save the world\n",
        "- super\n",
        "- extremely good\n",
        "- so so perfect\n",
        "- so good\n",
        "- so perfect\n",
        "\n",
        "## intent:mood_unhappy\n",
        "- my day was horrible\n",
        "- I am sad\n",
        "- I don't feel very well\n",
        "- I am disappointed\n",
        "- super sad\n",
        "- I'm so sad\n",
        "- sad\n",
        "- very sad\n",
        "- unhappy\n",
        "- bad\n",
        "- very bad\n",
        "- awful\n",
        "- terrible\n",
        "- not so good\n",
        "- not very good\n",
        "- extremly sad\n",
        "- so saad\n",
        "- so sad\n",
        "\"\"\"\n",
        "\n",
        "%store nlu_md > nlu.md"
      ],
      "execution_count": 0,
      "outputs": []
    },
    {
      "metadata": {
        "id": "OiqcLUQr0eRR",
        "colab_type": "text"
      },
      "cell_type": "markdown",
      "source": [
        "To properly train your NLU model, you also need to define what is part of that model. Rasa NLU uses a similar pipeline concept as sklearn does. All the components that are listed in the pipeline will be trained one after another and everyone of them contributes its part to the structured data extraction:"
      ]
    },
    {
      "metadata": {
        "id": "2LUBmH800e-c",
        "colab_type": "code",
        "colab": {}
      },
      "cell_type": "code",
      "source": [
        "config = \"\"\"\n",
        "language: \"en\"\n",
        "\n",
        "pipeline:\n",
        "- name: \"nlp_spacy\"                   # loads the spacy language model\n",
        "- name: \"tokenizer_spacy\"             # splits the sentence into tokens\n",
        "- name: \"ner_spacy\"                   # uses the pretrained spacy NER model\n",
        "- name: \"intent_featurizer_spacy\"     # transform the sentence into a vector representation\n",
        "- name: \"intent_classifier_sklearn\"   # uses the vector representation to classify using SVM\n",
        "\"\"\" \n",
        "\n",
        "%store config > config.yml"
      ],
      "execution_count": 0,
      "outputs": []
    },
    {
      "metadata": {
        "id": "DHvOJ9Nu0j46",
        "colab_type": "text"
      },
      "cell_type": "markdown",
      "source": [
        "Train the Rasa NLU Model\n",
        "You're going to train a model to recognise these intents, so that when you send a message like \"hello\" to your bot, it will recognise this as a \"greet\" intent."
      ]
    },
    {
      "metadata": {
        "id": "otfnebe10lLD",
        "colab_type": "code",
        "colab": {}
      },
      "cell_type": "code",
      "source": [
        "from rasa_nlu.training_data import load_data\n",
        "from rasa_nlu.config import RasaNLUModelConfig\n",
        "from rasa_nlu.model import Trainer\n",
        "from rasa_nlu import config\n",
        "\n",
        "# loading the nlu training samples\n",
        "training_data = load_data(\"nlu.md\")\n",
        "\n",
        "# trainer to educate our pipeline\n",
        "trainer = Trainer(config.load(\"config.yml\"))\n",
        "\n",
        "# train the model!\n",
        "interpreter = trainer.train(training_data)\n",
        "\n",
        "# store it for future use\n",
        "model_directory = trainer.persist(\"./models/nlu\", fixed_model_name=\"current\")"
      ],
      "execution_count": 0,
      "outputs": []
    },
    {
      "metadata": {
        "id": "bkIfaUK5151W",
        "colab_type": "text"
      },
      "cell_type": "markdown",
      "source": [
        "Use & evaluate the NLU model\n",
        "Let's play around with the model and shoot it some messages:"
      ]
    },
    {
      "metadata": {
        "id": "RmAbkfot16Yn",
        "colab_type": "code",
        "colab": {}
      },
      "cell_type": "code",
      "source": [
        "pprint(interpreter.parse(\"doing poorly\"))"
      ],
      "execution_count": 0,
      "outputs": []
    },
    {
      "metadata": {
        "id": "R9Cvz7rC2ADJ",
        "colab_type": "text"
      },
      "cell_type": "markdown",
      "source": [
        "Instead of evaluating it by hand, the model can also be evaluated on a test data set (though for simplicity we are going to use the same for test and train):"
      ]
    },
    {
      "metadata": {
        "id": "oN4RobWC2AcY",
        "colab_type": "code",
        "colab": {}
      },
      "cell_type": "code",
      "source": [
        "from rasa_nlu.evaluate import run_evaluation\n",
        "\n",
        "run_evaluation(\"nlu.md\", model_directory)"
      ],
      "execution_count": 0,
      "outputs": []
    },
    {
      "metadata": {
        "id": "1prk4knu3YUN",
        "colab_type": "text"
      },
      "cell_type": "markdown",
      "source": [
        "**Part 2: Adding dialogue capabilities**\n",
        "Writing Stories\n",
        "A good place to start is by writing a few stories. These are example conversations that Rasa Core will learn from.\n",
        "The format works like this:\n",
        "A story starts with ## and you can give it a name. lines that start with * are messages sent by the user. Although you don't write the actual message, but rather the intent (and the entities) that represent what the user means. If you don't know about intents and entities, don't worry! We will talk about them more later. Lines that start with - are actions taken by your bot. In this case all of our actions are just messages sent back to the user, like utter_greet, but in general an action can do anything, including calling an API and interacting with the outside world."
      ]
    },
    {
      "metadata": {
        "id": "kQ1afGVo3apM",
        "colab_type": "code",
        "colab": {}
      },
      "cell_type": "code",
      "source": [
        "stories_md = \"\"\"\n",
        "## happy path               <!-- name of the story - just for debugging -->\n",
        "* greet              \n",
        "  - utter_greet\n",
        "* mood_great               <!-- user utterance, in format intent[entities] -->\n",
        "  - utter_happy\n",
        "* mood_affirm\n",
        "  - utter_happy\n",
        "* mood_affirm\n",
        "  - utter_goodbye\n",
        "  \n",
        "## sad path 1               <!-- this is already the start of the next story -->\n",
        "* greet\n",
        "  - utter_greet             <!-- action the bot should execute -->\n",
        "* mood_unhappy\n",
        "  - action_retrieve_image\n",
        "  - utter_cheer_up\n",
        "  - utter_did_that_help\n",
        "* mood_affirm\n",
        "  - utter_happy\n",
        "\n",
        "## sad path 2\n",
        "* greet\n",
        "  - utter_greet\n",
        "* mood_unhappy\n",
        "  - action_retrieve_image\n",
        "  - utter_cheer_up\n",
        "  - utter_did_that_help\n",
        "* mood_deny\n",
        "  - utter_goodbye\n",
        "  \n",
        "## strange user\n",
        "* mood_affirm\n",
        "  - utter_happy\n",
        "* mood_affirm\n",
        "  - utter_unclear\n",
        "\n",
        "## say goodbye\n",
        "* goodbye\n",
        "  - utter_goodbye\n",
        "\n",
        "## fallback\n",
        "- utter_unclear\n",
        "\n",
        "\"\"\"\n",
        "\n",
        "%store stories_md > stories.md"
      ],
      "execution_count": 0,
      "outputs": []
    },
    {
      "metadata": {
        "id": "ZOCsBIv_3iaU",
        "colab_type": "text"
      },
      "cell_type": "markdown",
      "source": [
        "**Defining a Domain**\n",
        "The domain specifies the universe that your bot lives in. You should list all of the intents and actions that show up in your stories. This is also the place to write templates, which contain the messages your bot can send back"
      ]
    },
    {
      "metadata": {
        "id": "5Ed_koWz3jmJ",
        "colab_type": "code",
        "colab": {}
      },
      "cell_type": "code",
      "source": [
        "domain_yml = \"\"\"\n",
        "intents:\n",
        "- greet\n",
        "- goodbye\n",
        "- mood_affirm\n",
        "- mood_deny\n",
        "- mood_great\n",
        "- mood_unhappy\n",
        "\n",
        "slots:\n",
        "  img_api_response:\n",
        "    type: unfeaturized\n",
        "\n",
        "actions:\n",
        "- utter_greet\n",
        "- utter_cheer_up\n",
        "- utter_did_that_help\n",
        "- utter_happy\n",
        "- utter_goodbye\n",
        "- utter_unclear\n",
        "- __main__.ApiAction\n",
        "\n",
        "templates:\n",
        "  utter_greet:\n",
        "  - text: \"Hey! How are you?\"\n",
        "\n",
        "  utter_cheer_up:\n",
        "  - text: \"Here is something to cheer you up: {img_api_response}\"\n",
        "\n",
        "  utter_did_that_help:\n",
        "  - text: \"Did that help you?\"\n",
        "\n",
        "  utter_unclear:\n",
        "  - text: \"I am not sure what you are aiming for.\"\n",
        "  \n",
        "  utter_happy:\n",
        "  - text: \"Great carry on!\"\n",
        "\n",
        "  utter_goodbye:\n",
        "  - text: \"Bye\"\n",
        "\"\"\"\n",
        "\n",
        "%store domain_yml > domain.yml"
      ],
      "execution_count": 0,
      "outputs": []
    },
    {
      "metadata": {
        "id": "SEuXjAQi3pPq",
        "colab_type": "text"
      },
      "cell_type": "markdown",
      "source": [
        "**Adding Custom API methods**\n",
        "Sometimes, you not only want to send back messages to the user, but you also want to call an API or run some code. YOu can create custom actions that will be called once the bots ML model predicts them. You'll use that to fetch a random image from a remote server (we are not actually fetching it here, but we could ;)"
      ]
    },
    {
      "metadata": {
        "id": "80eW_jlU3qV7",
        "colab_type": "code",
        "colab": {}
      },
      "cell_type": "code",
      "source": [
        "from rasa_core.actions import Action\n",
        "from rasa_core.events import SlotSet\n",
        "\n",
        "import requests\n",
        "\n",
        "class ApiAction(Action):\n",
        "    def name(self):\n",
        "        return \"action_retrieve_image\"\n",
        "\n",
        "    def run(self, dispatcher, tracker, domain):\n",
        "        dispatcher.utter_message(\"looking for a good img\")\n",
        "        url = \"https://picsum.photos/200/300/?random\"\n",
        "        return [SlotSet(\"img_api_response\", url)]"
      ],
      "execution_count": 0,
      "outputs": []
    },
    {
      "metadata": {
        "id": "deaGMwGY3x8_",
        "colab_type": "text"
      },
      "cell_type": "markdown",
      "source": [
        "**Pro Tip: Visualising the Training Data**\n",
        "You can visualise the stories to get a sense of how the conversations go. This is usually a good way to see if there are any stories which don't make sense"
      ]
    },
    {
      "metadata": {
        "id": "4zBhyu2d3zjl",
        "colab_type": "code",
        "colab": {}
      },
      "cell_type": "code",
      "source": [
        "from IPython.display import Image\n",
        "from rasa_core.agent import Agent\n",
        "\n",
        "agent = Agent('domain.yml')\n",
        "agent.visualize(\"stories.md\", \"story_graph.png\", max_history=2)\n",
        "Image(filename=\"story_graph.png\")"
      ],
      "execution_count": 0,
      "outputs": []
    },
    {
      "metadata": {
        "id": "8GXCmyaz37Hp",
        "colab_type": "text"
      },
      "cell_type": "markdown",
      "source": [
        " **Training your Dialogue Model**\n",
        "Now comes the fun part! We're going to show Rasa Core the stories we wrote above, and train a model on these examples. In this case, the model is a neural network implemented in Keras which learns to predict which action to take next."
      ]
    },
    {
      "metadata": {
        "id": "UfvAIQMv3-re",
        "colab_type": "code",
        "colab": {}
      },
      "cell_type": "code",
      "source": [
        "from rasa_core.policies import FallbackPolicy, KerasPolicy, MemoizationPolicy\n",
        "from rasa_core.agent import Agent\n",
        "\n",
        "# this will catch predictions the model isn't very certain about\n",
        "# there is a threshold for the NLU predictions as well as the action predictions\n",
        "fallback = FallbackPolicy(fallback_action_name=\"utter_unclear\",\n",
        "                          core_threshold=0.2,\n",
        "                          nlu_threshold=0.6)\n",
        "\n",
        "agent = Agent('domain.yml', policies=[MemoizationPolicy(), KerasPolicy(), fallback])\n",
        "\n",
        "# loading our neatly defined training dialogues\n",
        "training_data = agent.load_data('stories.md')\n",
        "\n",
        "agent.train(\n",
        "    training_data,\n",
        "    validation_split=0.0,\n",
        "    epochs=400\n",
        ")\n",
        "\n",
        "agent.persist('models/dialogue')"
      ],
      "execution_count": 0,
      "outputs": []
    },
    {
      "metadata": {
        "id": "dH59hOgw4KDg",
        "colab_type": "text"
      },
      "cell_type": "markdown",
      "source": [
        "**Starting up the bot (with NLU)**\n",
        "Now that we've trained the dialogue and language understanding models and saved them, we can start up an Agent which will handle conversations for us."
      ]
    },
    {
      "metadata": {
        "id": "8Y5uSVRM4Lfq",
        "colab_type": "code",
        "colab": {}
      },
      "cell_type": "code",
      "source": [
        "from rasa_core.agent import Agent\n",
        "agent = Agent.load('models/dialogue', interpreter=model_directory)"
      ],
      "execution_count": 0,
      "outputs": []
    },
    {
      "metadata": {
        "id": "tFKC7xre4TyQ",
        "colab_type": "text"
      },
      "cell_type": "markdown",
      "source": [
        "**Talking to the Bot (with NLU)**\n",
        "We can start talking to the bot in natural language."
      ]
    },
    {
      "metadata": {
        "id": "JPPMBUCq4VS6",
        "colab_type": "code",
        "colab": {}
      },
      "cell_type": "code",
      "source": [
        "print(\"Your bot is ready to talk! Type your messages here or send 'stop'\")\n",
        "while True:\n",
        "    a = input()\n",
        "    if a == 'stop':\n",
        "        break\n",
        "    responses = agent.handle_message(a)\n",
        "    for response in responses:\n",
        "        print(response[\"text\"])"
      ],
      "execution_count": 0,
      "outputs": []
    },
    {
      "metadata": {
        "id": "5-fTrDGM4hp9",
        "colab_type": "text"
      },
      "cell_type": "markdown",
      "source": [
        "**Evaluation of the dialogue model**\n",
        "As with the NLU model, instead of just subjectively testing the model, we can also evaluate the model on a dataset. You'll be using the training data set again, but usually you'd use a test data set separate from the training data."
      ]
    },
    {
      "metadata": {
        "id": "HBPwoiaR4i7N",
        "colab_type": "code",
        "colab": {}
      },
      "cell_type": "code",
      "source": [
        "from rasa_core.evaluate import run_story_evaluation\n",
        "\n",
        "run_story_evaluation(\"stories.md\", \"models/dialogue\", \n",
        "                     nlu_model_path=None, \n",
        "                     max_stories=None, \n",
        "                     out_file_plot=\"story_eval.pdf\")"
      ],
      "execution_count": 0,
      "outputs": []
    },
    {
      "metadata": {
        "id": "ilEyJLwJ4tZz",
        "colab_type": "text"
      },
      "cell_type": "markdown",
      "source": [
        "**Interactive learning**\n",
        "Unfortunately, this doesn't work in jupyter yet. Hence, we going to do this on the command line. The repository contains a makefile with the instructions to run the interactive learning. So go ahead and run make interactive on the commandline (make sure your shell is in the righht virtual env).\n",
        "\n",
        "**Part 3: Next steps**\n",
        "Great job! You've built your first bot that uses Machine Learning to manage dialogues. As a next step, we'd suggest you start building your own bot. Here are a few useful links:\n",
        "Install the Rasa Stack on your machine here\n",
        "Checkout more of the Docs: NLU and Core\n",
        "Connect to the community in our Gitter Chat\n"
      ]
    },
    {
      "metadata": {
        "id": "EqZodGBv4yGG",
        "colab_type": "text"
      },
      "cell_type": "markdown",
      "source": [
        "From: \n",
        "https://github.com/tmbo/rasa-demo-pydata18/blob/master/rasa-moodbot-demo-complete.ipynb"
      ]
    },
    {
      "metadata": {
        "id": "MH13yg5x43vk",
        "colab_type": "text"
      },
      "cell_type": "markdown",
      "source": [
        ""
      ]
    }
  ]
}